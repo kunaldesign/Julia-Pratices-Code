{
 "cells": [
  {
   "cell_type": "markdown",
   "metadata": {},
   "source": [
    "## Getting Start with Julia"
   ]
  },
  {
   "cell_type": "code",
   "execution_count": 190,
   "metadata": {},
   "outputs": [
    {
     "data": {
      "text/plain": [
       "8"
      ]
     },
     "metadata": {},
     "output_type": "display_data"
    }
   ],
   "source": [
    "5+3"
   ]
  },
  {
   "cell_type": "code",
   "execution_count": 191,
   "metadata": {},
   "outputs": [
    {
     "data": {
      "text/plain": [
       "3 + 4im"
      ]
     },
     "metadata": {},
     "output_type": "display_data"
    }
   ],
   "source": [
    "x = 3 + 4im"
   ]
  },
  {
   "cell_type": "code",
   "execution_count": 192,
   "metadata": {},
   "outputs": [
    {
     "data": {
      "text/plain": [
       "Complex{Int64}"
      ]
     },
     "metadata": {},
     "output_type": "display_data"
    }
   ],
   "source": [
    "typeof(x)"
   ]
  },
  {
   "cell_type": "code",
   "execution_count": 193,
   "metadata": {},
   "outputs": [
    {
     "data": {
      "text/plain": [
       "3"
      ]
     },
     "metadata": {},
     "output_type": "display_data"
    }
   ],
   "source": [
    "real(x)"
   ]
  },
  {
   "cell_type": "code",
   "execution_count": 194,
   "metadata": {},
   "outputs": [
    {
     "data": {
      "text/plain": [
       "4"
      ]
     },
     "metadata": {},
     "output_type": "display_data"
    }
   ],
   "source": [
    "imag(x)"
   ]
  },
  {
   "cell_type": "code",
   "execution_count": 195,
   "metadata": {},
   "outputs": [
    {
     "data": {
      "text/plain": [
       "4 + 5im"
      ]
     },
     "metadata": {},
     "output_type": "display_data"
    }
   ],
   "source": [
    "x = 4 + 5im"
   ]
  },
  {
   "cell_type": "code",
   "execution_count": 196,
   "metadata": {},
   "outputs": [
    {
     "data": {
      "text/plain": [
       "0.8960553845713439"
      ]
     },
     "metadata": {},
     "output_type": "display_data"
    }
   ],
   "source": [
    "angle(x)"
   ]
  },
  {
   "cell_type": "code",
   "execution_count": 197,
   "metadata": {},
   "outputs": [
    {
     "data": {
      "text/plain": [
       "6.4031242374328485"
      ]
     },
     "metadata": {},
     "output_type": "display_data"
    }
   ],
   "source": [
    "abs(x)"
   ]
  },
  {
   "cell_type": "code",
   "execution_count": 198,
   "metadata": {},
   "outputs": [
    {
     "data": {
      "text/plain": [
       "8 + 10im"
      ]
     },
     "metadata": {},
     "output_type": "display_data"
    }
   ],
   "source": [
    "(4+5im)*2"
   ]
  },
  {
   "cell_type": "code",
   "execution_count": 199,
   "metadata": {},
   "outputs": [
    {
     "data": {
      "text/plain": [
       "-7 + 22im"
      ]
     },
     "metadata": {},
     "output_type": "display_data"
    }
   ],
   "source": [
    "(2+3im)*(4+5im)"
   ]
  },
  {
   "cell_type": "code",
   "execution_count": 200,
   "metadata": {},
   "outputs": [
    {
     "data": {
      "text/plain": [
       "2 + 3im"
      ]
     },
     "metadata": {},
     "output_type": "display_data"
    }
   ],
   "source": [
    "complex(2,3)"
   ]
  },
  {
   "cell_type": "code",
   "execution_count": 201,
   "metadata": {},
   "outputs": [
    {
     "data": {
      "text/plain": [
       "'A': ASCII/Unicode U+0041 (category Lu: Letter, uppercase)"
      ]
     },
     "metadata": {},
     "output_type": "display_data"
    }
   ],
   "source": [
    "'A'"
   ]
  },
  {
   "cell_type": "code",
   "execution_count": 202,
   "metadata": {},
   "outputs": [
    {
     "data": {
      "text/plain": [
       "Char"
      ]
     },
     "metadata": {},
     "output_type": "display_data"
    }
   ],
   "source": [
    "typeof('A')"
   ]
  },
  {
   "cell_type": "code",
   "execution_count": 203,
   "metadata": {},
   "outputs": [
    {
     "data": {
      "text/plain": [
       "'⊈': Unicode U+2288 (category Sm: Symbol, math)"
      ]
     },
     "metadata": {},
     "output_type": "display_data"
    }
   ],
   "source": [
    "'\\u2288'"
   ]
  },
  {
   "cell_type": "code",
   "execution_count": 204,
   "metadata": {},
   "outputs": [
    {
     "data": {
      "text/plain": [
       "'♥': Unicode U+2665 (category So: Symbol, other)"
      ]
     },
     "metadata": {},
     "output_type": "display_data"
    }
   ],
   "source": [
    "'\\U2665'"
   ]
  },
  {
   "cell_type": "code",
   "execution_count": 205,
   "metadata": {},
   "outputs": [
    {
     "data": {
      "text/plain": [
       "'☎': Unicode U+260E (category So: Symbol, other)"
      ]
     },
     "metadata": {},
     "output_type": "display_data"
    }
   ],
   "source": [
    "'\\U260E'"
   ]
  },
  {
   "cell_type": "code",
   "execution_count": 206,
   "metadata": {},
   "outputs": [
    {
     "data": {
      "text/plain": [
       "65"
      ]
     },
     "metadata": {},
     "output_type": "display_data"
    }
   ],
   "source": [
    "Int('A')"
   ]
  },
  {
   "cell_type": "code",
   "execution_count": 207,
   "metadata": {},
   "outputs": [
    {
     "data": {
      "text/plain": [
       "9742"
      ]
     },
     "metadata": {},
     "output_type": "display_data"
    }
   ],
   "source": [
    "Int('☎')"
   ]
  },
  {
   "cell_type": "code",
   "execution_count": 208,
   "metadata": {},
   "outputs": [
    {
     "data": {
      "text/plain": [
       "\"hello world\""
      ]
     },
     "metadata": {},
     "output_type": "display_data"
    }
   ],
   "source": [
    "\"hello world\""
   ]
  },
  {
   "cell_type": "code",
   "execution_count": 209,
   "metadata": {},
   "outputs": [
    {
     "data": {
      "text/plain": [
       "\"hello world\""
      ]
     },
     "metadata": {},
     "output_type": "display_data"
    }
   ],
   "source": [
    "text = \"hello world\""
   ]
  },
  {
   "cell_type": "code",
   "execution_count": 210,
   "metadata": {},
   "outputs": [
    {
     "data": {
      "text/plain": [
       "'e': ASCII/Unicode U+0065 (category Ll: Letter, lowercase)"
      ]
     },
     "metadata": {},
     "output_type": "display_data"
    }
   ],
   "source": [
    "text[2]"
   ]
  },
  {
   "cell_type": "code",
   "execution_count": 211,
   "metadata": {},
   "outputs": [
    {
     "data": {
      "text/plain": [
       "'d': ASCII/Unicode U+0064 (category Ll: Letter, lowercase)"
      ]
     },
     "metadata": {},
     "output_type": "display_data"
    }
   ],
   "source": [
    "text[end]"
   ]
  },
  {
   "cell_type": "code",
   "execution_count": 212,
   "metadata": {},
   "outputs": [
    {
     "data": {
      "text/plain": [
       "'l': ASCII/Unicode U+006C (category Ll: Letter, lowercase)"
      ]
     },
     "metadata": {},
     "output_type": "display_data"
    }
   ],
   "source": [
    "text[end-1]"
   ]
  },
  {
   "cell_type": "code",
   "execution_count": 213,
   "metadata": {},
   "outputs": [
    {
     "data": {
      "text/plain": [
       "\"hello world\""
      ]
     },
     "metadata": {},
     "output_type": "display_data"
    }
   ],
   "source": [
    "x = \"\"\"hello world\"\"\""
   ]
  },
  {
   "cell_type": "code",
   "execution_count": 214,
   "metadata": {},
   "outputs": [
    {
     "data": {
      "text/plain": [
       "\"hello\""
      ]
     },
     "metadata": {},
     "output_type": "display_data"
    }
   ],
   "source": [
    "x[1:5]"
   ]
  },
  {
   "cell_type": "code",
   "execution_count": 215,
   "metadata": {},
   "outputs": [
    {
     "data": {
      "text/plain": [
       "\"world\""
      ]
     },
     "metadata": {},
     "output_type": "display_data"
    }
   ],
   "source": [
    "x[7:end]"
   ]
  },
  {
   "cell_type": "markdown",
   "metadata": {},
   "source": [
    "# Function"
   ]
  },
  {
   "cell_type": "markdown",
   "metadata": {},
   "source": [
    "## 1. Intro to Functions"
   ]
  },
  {
   "cell_type": "code",
   "execution_count": 216,
   "metadata": {},
   "outputs": [
    {
     "data": {
      "text/plain": [
       "15"
      ]
     },
     "metadata": {},
     "output_type": "display_data"
    }
   ],
   "source": [
    "function youarethebest(y,z)\n",
    "    return y+z\n",
    "end\n",
    "\n",
    "youarethebest(7,8)"
   ]
  },
  {
   "cell_type": "markdown",
   "metadata": {},
   "source": [
    "## 2. Alternative Way to Define a Function"
   ]
  },
  {
   "cell_type": "code",
   "execution_count": 217,
   "metadata": {},
   "outputs": [
    {
     "data": {
      "text/plain": [
       "15"
      ]
     },
     "metadata": {},
     "output_type": "display_data"
    }
   ],
   "source": [
    "func(x,y) = x+y\n",
    "func(7,8)"
   ]
  },
  {
   "cell_type": "markdown",
   "metadata": {},
   "source": [
    "## 3. Implicit and Explicit Return"
   ]
  },
  {
   "cell_type": "code",
   "execution_count": 218,
   "metadata": {},
   "outputs": [
    {
     "data": {
      "text/plain": [
       "15"
      ]
     },
     "metadata": {},
     "output_type": "display_data"
    }
   ],
   "source": [
    "function demo(x,y)\n",
    "    x+y\n",
    "end\n",
    "demo(7,8)"
   ]
  },
  {
   "cell_type": "code",
   "execution_count": 219,
   "metadata": {},
   "outputs": [
    {
     "data": {
      "text/plain": [
       "6"
      ]
     },
     "metadata": {},
     "output_type": "display_data"
    }
   ],
   "source": [
    "function new(x,y)\n",
    "    return x*y\n",
    "    x+y\n",
    "end\n",
    "\n",
    "new(2,3)"
   ]
  },
  {
   "cell_type": "markdown",
   "metadata": {},
   "source": [
    "## 4. Automatic Return"
   ]
  },
  {
   "cell_type": "code",
   "execution_count": 220,
   "metadata": {},
   "outputs": [
    {
     "data": {
      "text/plain": [
       "newdemo (generic function with 1 method)"
      ]
     },
     "metadata": {},
     "output_type": "display_data"
    }
   ],
   "source": [
    "function newdemo(x,y)\n",
    "    x*y\n",
    "    x+y\n",
    "end\n",
    "\n",
    "newdemo"
   ]
  },
  {
   "cell_type": "code",
   "execution_count": 221,
   "metadata": {},
   "outputs": [
    {
     "data": {
      "text/plain": [
       "5"
      ]
     },
     "metadata": {},
     "output_type": "display_data"
    }
   ],
   "source": [
    "newdemo(2,3)"
   ]
  },
  {
   "cell_type": "markdown",
   "metadata": {},
   "source": [
    "## 5. How to Return Multiple Values"
   ]
  },
  {
   "cell_type": "code",
   "execution_count": 222,
   "metadata": {},
   "outputs": [
    {
     "data": {
      "text/plain": [
       "a (generic function with 1 method)"
      ]
     },
     "metadata": {},
     "output_type": "display_data"
    }
   ],
   "source": [
    "function  a(x,y)\n",
    "    x+y,x*y\n",
    "end\n",
    "\n",
    "a"
   ]
  },
  {
   "cell_type": "code",
   "execution_count": 223,
   "metadata": {},
   "outputs": [
    {
     "data": {
      "text/plain": [
       "(5, 6)"
      ]
     },
     "metadata": {},
     "output_type": "display_data"
    }
   ],
   "source": [
    "a(2,3)"
   ]
  },
  {
   "cell_type": "code",
   "execution_count": 224,
   "metadata": {},
   "outputs": [
    {
     "data": {
      "text/plain": [
       "(5, 6)"
      ]
     },
     "metadata": {},
     "output_type": "display_data"
    }
   ],
   "source": [
    "x,y = a(2,3)"
   ]
  },
  {
   "cell_type": "code",
   "execution_count": 225,
   "metadata": {},
   "outputs": [
    {
     "data": {
      "text/plain": [
       "5"
      ]
     },
     "metadata": {},
     "output_type": "display_data"
    }
   ],
   "source": [
    "x"
   ]
  },
  {
   "cell_type": "code",
   "execution_count": 226,
   "metadata": {},
   "outputs": [
    {
     "data": {
      "text/plain": [
       "6"
      ]
     },
     "metadata": {},
     "output_type": "display_data"
    }
   ],
   "source": [
    "y"
   ]
  },
  {
   "cell_type": "markdown",
   "metadata": {},
   "source": [
    "## 6. Operator as Functions"
   ]
  },
  {
   "cell_type": "code",
   "execution_count": 227,
   "metadata": {},
   "outputs": [
    {
     "data": {
      "text/plain": [
       "5"
      ]
     },
     "metadata": {},
     "output_type": "display_data"
    }
   ],
   "source": [
    "+(2,3)"
   ]
  },
  {
   "cell_type": "code",
   "execution_count": 228,
   "metadata": {},
   "outputs": [
    {
     "data": {
      "text/plain": [
       "5"
      ]
     },
     "metadata": {},
     "output_type": "display_data"
    }
   ],
   "source": [
    "2+3"
   ]
  },
  {
   "cell_type": "code",
   "execution_count": 229,
   "metadata": {},
   "outputs": [
    {
     "data": {
      "text/plain": [
       "14"
      ]
     },
     "metadata": {},
     "output_type": "display_data"
    }
   ],
   "source": [
    "+(2,3,4,5)"
   ]
  },
  {
   "cell_type": "code",
   "execution_count": 230,
   "metadata": {},
   "outputs": [
    {
     "data": {
      "text/plain": [
       "30"
      ]
     },
     "metadata": {},
     "output_type": "display_data"
    }
   ],
   "source": [
    "*(5,6)"
   ]
  },
  {
   "cell_type": "code",
   "execution_count": 231,
   "metadata": {},
   "outputs": [
    {
     "data": {
      "text/plain": [
       "+ (generic function with 184 methods)"
      ]
     },
     "metadata": {},
     "output_type": "display_data"
    }
   ],
   "source": [
    "A = +"
   ]
  },
  {
   "cell_type": "code",
   "execution_count": 232,
   "metadata": {},
   "outputs": [
    {
     "data": {
      "text/plain": [
       "5"
      ]
     },
     "metadata": {},
     "output_type": "display_data"
    }
   ],
   "source": [
    "A(2,3)"
   ]
  },
  {
   "cell_type": "markdown",
   "metadata": {},
   "source": [
    "## 7. Functions as First Class Objects"
   ]
  },
  {
   "cell_type": "code",
   "execution_count": 233,
   "metadata": {},
   "outputs": [
    {
     "data": {
      "text/plain": [
       "xyz (generic function with 1 method)"
      ]
     },
     "metadata": {},
     "output_type": "display_data"
    }
   ],
   "source": [
    "function xyz(a,b)\n",
    "    a+b\n",
    "end\n",
    "xyz"
   ]
  },
  {
   "cell_type": "code",
   "execution_count": 234,
   "metadata": {},
   "outputs": [
    {
     "data": {
      "text/plain": [
       "xyz (generic function with 1 method)"
      ]
     },
     "metadata": {},
     "output_type": "display_data"
    }
   ],
   "source": [
    "pen = xyz"
   ]
  },
  {
   "cell_type": "code",
   "execution_count": 235,
   "metadata": {},
   "outputs": [
    {
     "data": {
      "text/plain": [
       "5"
      ]
     },
     "metadata": {},
     "output_type": "display_data"
    }
   ],
   "source": [
    "pen(2,3)"
   ]
  },
  {
   "cell_type": "markdown",
   "metadata": {},
   "source": [
    "## 8. Map Function"
   ]
  },
  {
   "cell_type": "code",
   "execution_count": 236,
   "metadata": {},
   "outputs": [
    {
     "data": {
      "text/plain": [
       "3-element Array{Int64,1}:\n",
       " 2\n",
       " 4\n",
       " 6"
      ]
     },
     "metadata": {},
     "output_type": "display_data"
    }
   ],
   "source": [
    "map(function (x)\n",
    "    x*2\n",
    "end,[1,2,3])"
   ]
  },
  {
   "cell_type": "markdown",
   "metadata": {},
   "source": [
    "## 9. Optional Arguments"
   ]
  },
  {
   "cell_type": "code",
   "execution_count": 237,
   "metadata": {},
   "outputs": [
    {
     "data": {
      "text/plain": [
       "f (generic function with 2 methods)"
      ]
     },
     "metadata": {},
     "output_type": "display_data"
    }
   ],
   "source": [
    "function f(x,y=7)\n",
    "    x+y\n",
    "end\n",
    "f"
   ]
  },
  {
   "cell_type": "code",
   "execution_count": 238,
   "metadata": {},
   "outputs": [
    {
     "data": {
      "text/plain": [
       "10"
      ]
     },
     "metadata": {},
     "output_type": "display_data"
    }
   ],
   "source": [
    "f(3)"
   ]
  },
  {
   "cell_type": "code",
   "execution_count": 239,
   "metadata": {},
   "outputs": [
    {
     "data": {
      "text/plain": [
       "9"
      ]
     },
     "metadata": {},
     "output_type": "display_data"
    }
   ],
   "source": [
    "f(3,6)"
   ]
  },
  {
   "cell_type": "markdown",
   "metadata": {},
   "source": [
    "## 10. If Else Statement"
   ]
  },
  {
   "cell_type": "code",
   "execution_count": 240,
   "metadata": {},
   "outputs": [
    {
     "data": {
      "text/plain": [
       "5"
      ]
     },
     "metadata": {},
     "output_type": "display_data"
    }
   ],
   "source": [
    "x = 5"
   ]
  },
  {
   "cell_type": "code",
   "execution_count": 241,
   "metadata": {},
   "outputs": [
    {
     "ename": "ErrorException",
     "evalue": "syntax: incomplete: premature end of input",
     "output_type": "error",
     "traceback": [
      "\n",
      "Stacktrace:\n",
      " [1] top-level scope at /home/kali/WorkPlace/Julia/StartJulia.ipynb:1\n",
      " [2] include_string(::Function, ::Module, ::String, ::String) at ./loading.jl:1091\n",
      " [3] #invokelatest#1 at ./essentials.jl:710 [inlined]\n",
      " [4] invokelatest at ./essentials.jl:709 [inlined]\n",
      " [5] (::VSCodeServer.var\"#98#99\"{VSCodeServer.NotebookRunCellArguments,String})() at /home/kali/.vscode/extensions/julialang.language-julia-1.4.3/scripts/packages/VSCodeServer/src/serve_notebook.jl:18\n",
      " [6] withpath(::VSCodeServer.var\"#98#99\"{VSCodeServer.NotebookRunCellArguments,String}, ::String) at /home/kali/.vscode/extensions/julialang.language-julia-1.4.3/scripts/packages/VSCodeServer/src/repl.jl:185\n",
      " [7] notebook_runcell_request(::VSCodeServer.JSONRPC.JSONRPCEndpoint{Base.PipeEndpoint,Base.PipeEndpoint}, ::VSCodeServer.NotebookRunCellArguments) at /home/kali/.vscode/extensions/julialang.language-julia-1.4.3/scripts/packages/VSCodeServer/src/serve_notebook.jl:14\n",
      " [8] dispatch_msg(::VSCodeServer.JSONRPC.JSONRPCEndpoint{Base.PipeEndpoint,Base.PipeEndpoint}, ::VSCodeServer.JSONRPC.MsgDispatcher, ::Dict{String,Any}) at /home/kali/.vscode/extensions/julialang.language-julia-1.4.3/scripts/packages/JSONRPC/src/typed.jl:67\n",
      " [9] serve_notebook(::String; crashreporting_pipename::String) at /home/kali/.vscode/extensions/julialang.language-julia-1.4.3/scripts/packages/VSCodeServer/src/serve_notebook.jl:94\n",
      " [10] top-level scope at /home/kali/.vscode/extensions/julialang.language-julia-1.4.3/scripts/notebook/notebook.jl:10\n",
      " [11] include(::Function, ::Module, ::String) at ./Base.jl:380\n",
      " [12] include(::Module, ::String) at ./Base.jl:368\n",
      " [13] exec_options(::Base.JLOptions) at ./client.jl:296\n",
      " [14] _start() at ./client.jl:506"
     ]
    }
   ],
   "source": [
    "if x<0\n",
    "    print(\"positive\")"
   ]
  },
  {
   "cell_type": "code",
   "execution_count": 242,
   "metadata": {},
   "outputs": [
    {
     "name": "stdout",
     "output_type": "stream",
     "text": [
      "positive"
     ]
    }
   ],
   "source": [
    "if x < 0\n",
    "    print(\"Negative\")\n",
    "else\n",
    "    print(\"positive\")\n",
    "end"
   ]
  },
  {
   "cell_type": "code",
   "execution_count": 243,
   "metadata": {},
   "outputs": [
    {
     "data": {
      "text/plain": [
       "0"
      ]
     },
     "metadata": {},
     "output_type": "display_data"
    }
   ],
   "source": [
    "x = 0"
   ]
  },
  {
   "cell_type": "code",
   "execution_count": 244,
   "metadata": {},
   "outputs": [
    {
     "name": "stdout",
     "output_type": "stream",
     "text": [
      "zero"
     ]
    }
   ],
   "source": [
    "if x < 0\n",
    "    print(\"Negative\")\n",
    "elseif x > 0\n",
    "    print(\"pos\")\n",
    "else\n",
    "    print(\"zero\")\n",
    "end "
   ]
  },
  {
   "cell_type": "markdown",
   "metadata": {},
   "source": [
    "## 11. Ternary Operator"
   ]
  },
  {
   "cell_type": "code",
   "execution_count": 245,
   "metadata": {},
   "outputs": [
    {
     "ename": "ErrorException",
     "evalue": "syntax: space required before \"?\" operator",
     "output_type": "error",
     "traceback": [
      "\n",
      "Stacktrace:\n",
      " [1] top-level scope at /home/kali/WorkPlace/Julia/StartJulia.ipynb:1\n",
      " [2] include_string(::Function, ::Module, ::String, ::String) at ./loading.jl:1091\n",
      " [3] #invokelatest#1 at ./essentials.jl:710 [inlined]\n",
      " [4] invokelatest at ./essentials.jl:709 [inlined]\n",
      " [5] (::VSCodeServer.var\"#98#99\"{VSCodeServer.NotebookRunCellArguments,String})() at /home/kali/.vscode/extensions/julialang.language-julia-1.4.3/scripts/packages/VSCodeServer/src/serve_notebook.jl:18\n",
      " [6] withpath(::VSCodeServer.var\"#98#99\"{VSCodeServer.NotebookRunCellArguments,String}, ::String) at /home/kali/.vscode/extensions/julialang.language-julia-1.4.3/scripts/packages/VSCodeServer/src/repl.jl:185\n",
      " [7] notebook_runcell_request(::VSCodeServer.JSONRPC.JSONRPCEndpoint{Base.PipeEndpoint,Base.PipeEndpoint}, ::VSCodeServer.NotebookRunCellArguments) at /home/kali/.vscode/extensions/julialang.language-julia-1.4.3/scripts/packages/VSCodeServer/src/serve_notebook.jl:14\n",
      " [8] dispatch_msg(::VSCodeServer.JSONRPC.JSONRPCEndpoint{Base.PipeEndpoint,Base.PipeEndpoint}, ::VSCodeServer.JSONRPC.MsgDispatcher, ::Dict{String,Any}) at /home/kali/.vscode/extensions/julialang.language-julia-1.4.3/scripts/packages/JSONRPC/src/typed.jl:67\n",
      " [9] serve_notebook(::String; crashreporting_pipename::String) at /home/kali/.vscode/extensions/julialang.language-julia-1.4.3/scripts/packages/VSCodeServer/src/serve_notebook.jl:94\n",
      " [10] top-level scope at /home/kali/.vscode/extensions/julialang.language-julia-1.4.3/scripts/notebook/notebook.jl:10\n",
      " [11] include(::Function, ::Module, ::String) at ./Base.jl:380\n",
      " [12] include(::Module, ::String) at ./Base.jl:368\n",
      " [13] exec_options(::Base.JLOptions) at ./client.jl:296\n",
      " [14] _start() at ./client.jl:506"
     ]
    }
   ],
   "source": [
    "print(x>0?\"pos\":\"neg\")"
   ]
  },
  {
   "cell_type": "code",
   "execution_count": 246,
   "metadata": {},
   "outputs": [
    {
     "data": {
      "text/plain": [
       "6"
      ]
     },
     "metadata": {},
     "output_type": "display_data"
    }
   ],
   "source": [
    "x=6"
   ]
  },
  {
   "cell_type": "code",
   "execution_count": 247,
   "metadata": {},
   "outputs": [
    {
     "ename": "ErrorException",
     "evalue": "syntax: space required before \"?\" operator",
     "output_type": "error",
     "traceback": [
      "\n",
      "Stacktrace:\n",
      " [1] top-level scope at /home/kali/WorkPlace/Julia/StartJulia.ipynb:1\n",
      " [2] include_string(::Function, ::Module, ::String, ::String) at ./loading.jl:1091\n",
      " [3] #invokelatest#1 at ./essentials.jl:710 [inlined]\n",
      " [4] invokelatest at ./essentials.jl:709 [inlined]\n",
      " [5] (::VSCodeServer.var\"#98#99\"{VSCodeServer.NotebookRunCellArguments,String})() at /home/kali/.vscode/extensions/julialang.language-julia-1.4.3/scripts/packages/VSCodeServer/src/serve_notebook.jl:18\n",
      " [6] withpath(::VSCodeServer.var\"#98#99\"{VSCodeServer.NotebookRunCellArguments,String}, ::String) at /home/kali/.vscode/extensions/julialang.language-julia-1.4.3/scripts/packages/VSCodeServer/src/repl.jl:185\n",
      " [7] notebook_runcell_request(::VSCodeServer.JSONRPC.JSONRPCEndpoint{Base.PipeEndpoint,Base.PipeEndpoint}, ::VSCodeServer.NotebookRunCellArguments) at /home/kali/.vscode/extensions/julialang.language-julia-1.4.3/scripts/packages/VSCodeServer/src/serve_notebook.jl:14\n",
      " [8] dispatch_msg(::VSCodeServer.JSONRPC.JSONRPCEndpoint{Base.PipeEndpoint,Base.PipeEndpoint}, ::VSCodeServer.JSONRPC.MsgDispatcher, ::Dict{String,Any}) at /home/kali/.vscode/extensions/julialang.language-julia-1.4.3/scripts/packages/JSONRPC/src/typed.jl:67\n",
      " [9] serve_notebook(::String; crashreporting_pipename::String) at /home/kali/.vscode/extensions/julialang.language-julia-1.4.3/scripts/packages/VSCodeServer/src/serve_notebook.jl:94\n",
      " [10] top-level scope at /home/kali/.vscode/extensions/julialang.language-julia-1.4.3/scripts/notebook/notebook.jl:10\n",
      " [11] include(::Function, ::Module, ::String) at ./Base.jl:380\n",
      " [12] include(::Module, ::String) at ./Base.jl:368\n",
      " [13] exec_options(::Base.JLOptions) at ./client.jl:296\n",
      " [14] _start() at ./client.jl:506"
     ]
    }
   ],
   "source": [
    "print(x>0?\"pos\":(x<0?\"neg\":\"Zero\"))"
   ]
  },
  {
   "cell_type": "code",
   "execution_count": 248,
   "metadata": {},
   "outputs": [
    {
     "ename": "ErrorException",
     "evalue": "syntax: space required before \"?\" operator",
     "output_type": "error",
     "traceback": [
      "\n",
      "Stacktrace:\n",
      " [1] top-level scope at /home/kali/WorkPlace/Julia/StartJulia.ipynb:2\n",
      " [2] include_string(::Function, ::Module, ::String, ::String) at ./loading.jl:1091\n",
      " [3] #invokelatest#1 at ./essentials.jl:710 [inlined]\n",
      " [4] invokelatest at ./essentials.jl:709 [inlined]\n",
      " [5] (::VSCodeServer.var\"#98#99\"{VSCodeServer.NotebookRunCellArguments,String})() at /home/kali/.vscode/extensions/julialang.language-julia-1.4.3/scripts/packages/VSCodeServer/src/serve_notebook.jl:18\n",
      " [6] withpath(::VSCodeServer.var\"#98#99\"{VSCodeServer.NotebookRunCellArguments,String}, ::String) at /home/kali/.vscode/extensions/julialang.language-julia-1.4.3/scripts/packages/VSCodeServer/src/repl.jl:185\n",
      " [7] notebook_runcell_request(::VSCodeServer.JSONRPC.JSONRPCEndpoint{Base.PipeEndpoint,Base.PipeEndpoint}, ::VSCodeServer.NotebookRunCellArguments) at /home/kali/.vscode/extensions/julialang.language-julia-1.4.3/scripts/packages/VSCodeServer/src/serve_notebook.jl:14\n",
      " [8] dispatch_msg(::VSCodeServer.JSONRPC.JSONRPCEndpoint{Base.PipeEndpoint,Base.PipeEndpoint}, ::VSCodeServer.JSONRPC.MsgDispatcher, ::Dict{String,Any}) at /home/kali/.vscode/extensions/julialang.language-julia-1.4.3/scripts/packages/JSONRPC/src/typed.jl:67\n",
      " [9] serve_notebook(::String; crashreporting_pipename::String) at /home/kali/.vscode/extensions/julialang.language-julia-1.4.3/scripts/packages/VSCodeServer/src/serve_notebook.jl:94\n",
      " [10] top-level scope at /home/kali/.vscode/extensions/julialang.language-julia-1.4.3/scripts/notebook/notebook.jl:10\n",
      " [11] include(::Function, ::Module, ::String) at ./Base.jl:380\n",
      " [12] include(::Module, ::String) at ./Base.jl:368\n",
      " [13] exec_options(::Base.JLOptions) at ./client.jl:296\n",
      " [14] _start() at ./client.jl:506"
     ]
    }
   ],
   "source": [
    "x=0\n",
    "print(x>0?\"pos\":(x<0?\"neg\":\"Zero\"))"
   ]
  },
  {
   "cell_type": "markdown",
   "metadata": {},
   "source": [
    "## 12. For Loop"
   ]
  },
  {
   "cell_type": "code",
   "execution_count": 249,
   "metadata": {},
   "outputs": [
    {
     "name": "stdout",
     "output_type": "stream",
     "text": [
      "1\n",
      "2\n",
      "3\n",
      "4\n",
      "5\n",
      "6\n",
      "7\n",
      "8\n",
      "9\n",
      "10\n"
     ]
    }
   ],
   "source": [
    "for i = 1:10\n",
    "    println(i)\n",
    "end"
   ]
  },
  {
   "cell_type": "code",
   "execution_count": 250,
   "metadata": {},
   "outputs": [
    {
     "name": "stdout",
     "output_type": "stream",
     "text": [
      "2\n",
      "7\n",
      "9\n"
     ]
    }
   ],
   "source": [
    "for arr in [2,7,9]\n",
    "    println(arr)\n",
    "end"
   ]
  },
  {
   "cell_type": "code",
   "execution_count": 251,
   "metadata": {},
   "outputs": [
    {
     "name": "stdout",
     "output_type": "stream",
     "text": [
      "a\n",
      "sdfs\n",
      "adas\n"
     ]
    }
   ],
   "source": [
    "for c in [\"a\",\"sdfs\",\"adas\"]\n",
    "    println(c)\n",
    "end"
   ]
  },
  {
   "cell_type": "code",
   "execution_count": 252,
   "metadata": {},
   "outputs": [
    {
     "name": "stdout",
     "output_type": "stream",
     "text": [
      "aOur Output is this\n",
      "sdfsOur Output is this\n",
      "adasOur Output is this\n"
     ]
    }
   ],
   "source": [
    "for c in [\"a\",\"sdfs\",\"adas\"]\n",
    "    println(c,\"Our Output is this\")\n",
    "end"
   ]
  },
  {
   "cell_type": "markdown",
   "metadata": {},
   "source": [
    "## 13. While Loop"
   ]
  },
  {
   "cell_type": "code",
   "execution_count": 253,
   "metadata": {},
   "outputs": [
    {
     "data": {
      "text/plain": [
       "1"
      ]
     },
     "metadata": {},
     "output_type": "display_data"
    }
   ],
   "source": [
    "x=1"
   ]
  },
  {
   "cell_type": "code",
   "execution_count": 254,
   "metadata": {},
   "outputs": [
    {
     "ename": "ErrorException",
     "evalue": "syntax: unexpected \"end\"",
     "output_type": "error",
     "traceback": [
      "\n",
      "Stacktrace:\n",
      " [1] top-level scope at /home/kali/WorkPlace/Julia/StartJulia.ipynb:4\n",
      " [2] include_string(::Function, ::Module, ::String, ::String) at ./loading.jl:1091\n",
      " [3] #invokelatest#1 at ./essentials.jl:710 [inlined]\n",
      " [4] invokelatest at ./essentials.jl:709 [inlined]\n",
      " [5] (::VSCodeServer.var\"#98#99\"{VSCodeServer.NotebookRunCellArguments,String})() at /home/kali/.vscode/extensions/julialang.language-julia-1.4.3/scripts/packages/VSCodeServer/src/serve_notebook.jl:18\n",
      " [6] withpath(::VSCodeServer.var\"#98#99\"{VSCodeServer.NotebookRunCellArguments,String}, ::String) at /home/kali/.vscode/extensions/julialang.language-julia-1.4.3/scripts/packages/VSCodeServer/src/repl.jl:185\n",
      " [7] notebook_runcell_request(::VSCodeServer.JSONRPC.JSONRPCEndpoint{Base.PipeEndpoint,Base.PipeEndpoint}, ::VSCodeServer.NotebookRunCellArguments) at /home/kali/.vscode/extensions/julialang.language-julia-1.4.3/scripts/packages/VSCodeServer/src/serve_notebook.jl:14\n",
      " [8] dispatch_msg(::VSCodeServer.JSONRPC.JSONRPCEndpoint{Base.PipeEndpoint,Base.PipeEndpoint}, ::VSCodeServer.JSONRPC.MsgDispatcher, ::Dict{String,Any}) at /home/kali/.vscode/extensions/julialang.language-julia-1.4.3/scripts/packages/JSONRPC/src/typed.jl:67\n",
      " [9] serve_notebook(::String; crashreporting_pipename::String) at /home/kali/.vscode/extensions/julialang.language-julia-1.4.3/scripts/packages/VSCodeServer/src/serve_notebook.jl:94\n",
      " [10] top-level scope at /home/kali/.vscode/extensions/julialang.language-julia-1.4.3/scripts/notebook/notebook.jl:10\n",
      " [11] include(::Function, ::Module, ::String) at ./Base.jl:380\n",
      " [12] include(::Module, ::String) at ./Base.jl:368\n",
      " [13] exec_options(::Base.JLOptions) at ./client.jl:296\n",
      " [14] _start() at ./client.jl:506"
     ]
    }
   ],
   "source": [
    "while x<5\n",
    "    println(x)\n",
    "    x++\n",
    "end"
   ]
  },
  {
   "cell_type": "code",
   "execution_count": 255,
   "metadata": {},
   "outputs": [
    {
     "name": "stdout",
     "output_type": "stream",
     "text": [
      "1\n",
      "2\n",
      "3\n",
      "4\n"
     ]
    }
   ],
   "source": [
    "while x<5\n",
    "    println(x)\n",
    "    x+=1\n",
    "end"
   ]
  },
  {
   "cell_type": "code",
   "execution_count": 256,
   "metadata": {},
   "outputs": [
    {
     "name": "stdout",
     "output_type": "stream",
     "text": [
      "1\n",
      "3\n",
      "5\n",
      "7\n",
      "9\n"
     ]
    }
   ],
   "source": [
    "for x in 1:10\n",
    "    if x%2==0\n",
    "        continue\n",
    "    end\n",
    "    println(x)\n",
    "end"
   ]
  },
  {
   "cell_type": "code",
   "execution_count": 257,
   "metadata": {},
   "outputs": [
    {
     "name": "stdout",
     "output_type": "stream",
     "text": [
      "1\n",
      "9\n",
      "25\n",
      "49\n",
      "81\n"
     ]
    }
   ],
   "source": [
    "for x in 1:10\n",
    "    if x%2==0\n",
    "        continue\n",
    "    end\n",
    "    println(x*x)\n",
    "end"
   ]
  },
  {
   "cell_type": "markdown",
   "metadata": {},
   "source": [
    "## 14. Compound Statements"
   ]
  },
  {
   "cell_type": "code",
   "execution_count": 258,
   "metadata": {},
   "outputs": [
    {
     "ename": "ErrorException",
     "evalue": "invalid redefinition of constant a",
     "output_type": "error",
     "traceback": [
      "\n",
      "Stacktrace:\n",
      " [1] top-level scope at /home/kali/WorkPlace/Julia/StartJulia.ipynb:2\n",
      " [2] include_string(::Function, ::Module, ::String, ::String) at ./loading.jl:1091\n",
      " [3] #invokelatest#1 at ./essentials.jl:710 [inlined]\n",
      " [4] invokelatest at ./essentials.jl:709 [inlined]\n",
      " [5] (::VSCodeServer.var\"#98#99\"{VSCodeServer.NotebookRunCellArguments,String})() at /home/kali/.vscode/extensions/julialang.language-julia-1.4.3/scripts/packages/VSCodeServer/src/serve_notebook.jl:18\n",
      " [6] withpath(::VSCodeServer.var\"#98#99\"{VSCodeServer.NotebookRunCellArguments,String}, ::String) at /home/kali/.vscode/extensions/julialang.language-julia-1.4.3/scripts/packages/VSCodeServer/src/repl.jl:185\n",
      " [7] notebook_runcell_request(::VSCodeServer.JSONRPC.JSONRPCEndpoint{Base.PipeEndpoint,Base.PipeEndpoint}, ::VSCodeServer.NotebookRunCellArguments) at /home/kali/.vscode/extensions/julialang.language-julia-1.4.3/scripts/packages/VSCodeServer/src/serve_notebook.jl:14\n",
      " [8] dispatch_msg(::VSCodeServer.JSONRPC.JSONRPCEndpoint{Base.PipeEndpoint,Base.PipeEndpoint}, ::VSCodeServer.JSONRPC.MsgDispatcher, ::Dict{String,Any}) at /home/kali/.vscode/extensions/julialang.language-julia-1.4.3/scripts/packages/JSONRPC/src/typed.jl:67\n",
      " [9] serve_notebook(::String; crashreporting_pipename::String) at /home/kali/.vscode/extensions/julialang.language-julia-1.4.3/scripts/packages/VSCodeServer/src/serve_notebook.jl:94\n",
      " [10] top-level scope at /home/kali/.vscode/extensions/julialang.language-julia-1.4.3/scripts/notebook/notebook.jl:10\n",
      " [11] include(::Function, ::Module, ::String) at ./Base.jl:380\n",
      " [12] include(::Module, ::String) at ./Base.jl:368\n",
      " [13] exec_options(::Base.JLOptions) at ./client.jl:296\n",
      " [14] _start() at ./client.jl:506"
     ]
    }
   ],
   "source": [
    "mul = begin\n",
    "    a=10\n",
    "    b=20\n",
    "    c=5\n",
    "    a*b*c\n",
    "end"
   ]
  },
  {
   "cell_type": "code",
   "execution_count": 259,
   "metadata": {},
   "outputs": [
    {
     "ename": "ErrorException",
     "evalue": "invalid redefinition of constant a",
     "output_type": "error",
     "traceback": [
      "\n",
      "Stacktrace:\n",
      " [1] top-level scope at /home/kali/WorkPlace/Julia/StartJulia.ipynb:1\n",
      " [2] include_string(::Function, ::Module, ::String, ::String) at ./loading.jl:1091\n",
      " [3] #invokelatest#1 at ./essentials.jl:710 [inlined]\n",
      " [4] invokelatest at ./essentials.jl:709 [inlined]\n",
      " [5] (::VSCodeServer.var\"#98#99\"{VSCodeServer.NotebookRunCellArguments,String})() at /home/kali/.vscode/extensions/julialang.language-julia-1.4.3/scripts/packages/VSCodeServer/src/serve_notebook.jl:18\n",
      " [6] withpath(::VSCodeServer.var\"#98#99\"{VSCodeServer.NotebookRunCellArguments,String}, ::String) at /home/kali/.vscode/extensions/julialang.language-julia-1.4.3/scripts/packages/VSCodeServer/src/repl.jl:185\n",
      " [7] notebook_runcell_request(::VSCodeServer.JSONRPC.JSONRPCEndpoint{Base.PipeEndpoint,Base.PipeEndpoint}, ::VSCodeServer.NotebookRunCellArguments) at /home/kali/.vscode/extensions/julialang.language-julia-1.4.3/scripts/packages/VSCodeServer/src/serve_notebook.jl:14\n",
      " [8] dispatch_msg(::VSCodeServer.JSONRPC.JSONRPCEndpoint{Base.PipeEndpoint,Base.PipeEndpoint}, ::VSCodeServer.JSONRPC.MsgDispatcher, ::Dict{String,Any}) at /home/kali/.vscode/extensions/julialang.language-julia-1.4.3/scripts/packages/JSONRPC/src/typed.jl:67\n",
      " [9] serve_notebook(::String; crashreporting_pipename::String) at /home/kali/.vscode/extensions/julialang.language-julia-1.4.3/scripts/packages/VSCodeServer/src/serve_notebook.jl:94\n",
      " [10] top-level scope at /home/kali/.vscode/extensions/julialang.language-julia-1.4.3/scripts/notebook/notebook.jl:10\n",
      " [11] include(::Function, ::Module, ::String) at ./Base.jl:380\n",
      " [12] include(::Module, ::String) at ./Base.jl:368\n",
      " [13] exec_options(::Base.JLOptions) at ./client.jl:296\n",
      " [14] _start() at ./client.jl:506"
     ]
    }
   ],
   "source": [
    "mul = a=10;b=20;c=5;a*b*c"
   ]
  },
  {
   "cell_type": "code",
   "execution_count": 260,
   "metadata": {},
   "outputs": [
    {
     "data": {
      "text/plain": [
       "doit (generic function with 1 method)"
      ]
     },
     "metadata": {},
     "output_type": "display_data"
    }
   ],
   "source": [
    "function doit()\n",
    "    a=10\n",
    "    b=20\n",
    "    c=5\n",
    "    a*b*c\n",
    "end\n",
    "doit"
   ]
  },
  {
   "cell_type": "code",
   "execution_count": 261,
   "metadata": {},
   "outputs": [
    {
     "data": {
      "text/plain": [
       "1000"
      ]
     },
     "metadata": {},
     "output_type": "display_data"
    }
   ],
   "source": [
    "doit()"
   ]
  },
  {
   "cell_type": "markdown",
   "metadata": {},
   "source": [
    "## 15. Coroutine"
   ]
  },
  {
   "cell_type": "code",
   "execution_count": 262,
   "metadata": {},
   "outputs": [
    {
     "data": {
      "text/plain": [
       "fubseries (generic function with 1 method)"
      ]
     },
     "metadata": {},
     "output_type": "display_data"
    }
   ],
   "source": [
    "function fubseries()\n",
    "    x = 0\n",
    "    produce(x)\n",
    "    y = 1\n",
    "    produce(y)\n",
    "    while true\n",
    "    x,y = y, x+y\n",
    "    produce(y)\n",
    "    end\n",
    "end"
   ]
  },
  {
   "cell_type": "code",
   "execution_count": 263,
   "metadata": {},
   "outputs": [
    {
     "data": {
      "text/plain": [
       "Task (runnable) @0x00007f92bf15a980"
      ]
     },
     "metadata": {},
     "output_type": "display_data"
    }
   ],
   "source": [
    "mytasks = Task(fubseries)"
   ]
  },
  {
   "cell_type": "code",
   "execution_count": 264,
   "metadata": {},
   "outputs": [
    {
     "ename": "UndefVarError",
     "evalue": "UndefVarError: consume not defined",
     "output_type": "error",
     "traceback": [
      "\n",
      "Stacktrace:\n",
      " [1] top-level scope at /home/kali/WorkPlace/Julia/StartJulia.ipynb:1\n",
      " [2] include_string(::Function, ::Module, ::String, ::String) at ./loading.jl:1091\n",
      " [3] #invokelatest#1 at ./essentials.jl:710 [inlined]\n",
      " [4] invokelatest at ./essentials.jl:709 [inlined]\n",
      " [5] (::VSCodeServer.var\"#98#99\"{VSCodeServer.NotebookRunCellArguments,String})() at /home/kali/.vscode/extensions/julialang.language-julia-1.4.3/scripts/packages/VSCodeServer/src/serve_notebook.jl:18\n",
      " [6] withpath(::VSCodeServer.var\"#98#99\"{VSCodeServer.NotebookRunCellArguments,String}, ::String) at /home/kali/.vscode/extensions/julialang.language-julia-1.4.3/scripts/packages/VSCodeServer/src/repl.jl:185\n",
      " [7] notebook_runcell_request(::VSCodeServer.JSONRPC.JSONRPCEndpoint{Base.PipeEndpoint,Base.PipeEndpoint}, ::VSCodeServer.NotebookRunCellArguments) at /home/kali/.vscode/extensions/julialang.language-julia-1.4.3/scripts/packages/VSCodeServer/src/serve_notebook.jl:14\n",
      " [8] dispatch_msg(::VSCodeServer.JSONRPC.JSONRPCEndpoint{Base.PipeEndpoint,Base.PipeEndpoint}, ::VSCodeServer.JSONRPC.MsgDispatcher, ::Dict{String,Any}) at /home/kali/.vscode/extensions/julialang.language-julia-1.4.3/scripts/packages/JSONRPC/src/typed.jl:67\n",
      " [9] serve_notebook(::String; crashreporting_pipename::String) at /home/kali/.vscode/extensions/julialang.language-julia-1.4.3/scripts/packages/VSCodeServer/src/serve_notebook.jl:94\n",
      " [10] top-level scope at /home/kali/.vscode/extensions/julialang.language-julia-1.4.3/scripts/notebook/notebook.jl:10\n",
      " [11] include(::Function, ::Module, ::String) at ./Base.jl:380\n",
      " [12] include(::Module, ::String) at ./Base.jl:368\n",
      " [13] exec_options(::Base.JLOptions) at ./client.jl:296\n",
      " [14] _start() at ./client.jl:506"
     ]
    }
   ],
   "source": [
    "consume(mytasks)"
   ]
  },
  {
   "cell_type": "markdown",
   "metadata": {},
   "source": [
    "## 16. Automation"
   ]
  },
  {
   "cell_type": "code",
   "execution_count": 265,
   "metadata": {},
   "outputs": [
    {
     "ename": "MethodError",
     "evalue": "MethodError: no method matching iterate(::Task)\nClosest candidates are:\n  iterate(!Matched::LibGit2.GitBranchIter) at /build/julia-CrxBG0/julia-1.5.3+dfsg/usr/share/julia/stdlib/v1.5/LibGit2/src/reference.jl:343\n  iterate(!Matched::LibGit2.GitBranchIter, !Matched::Any) at /build/julia-CrxBG0/julia-1.5.3+dfsg/usr/share/julia/stdlib/v1.5/LibGit2/src/reference.jl:343\n  iterate(!Matched::LibGit2.GitRebase) at /build/julia-CrxBG0/julia-1.5.3+dfsg/usr/share/julia/stdlib/v1.5/LibGit2/src/rebase.jl:48\n  ...",
     "output_type": "error",
     "traceback": [
      "\n",
      "Stacktrace:\n",
      " [1] top-level scope at /home/kali/WorkPlace/Julia/StartJulia.ipynb:1\n",
      " [2] include_string(::Function, ::Module, ::String, ::String) at ./loading.jl:1091\n",
      " [3] #invokelatest#1 at ./essentials.jl:710 [inlined]\n",
      " [4] invokelatest at ./essentials.jl:709 [inlined]\n",
      " [5] (::VSCodeServer.var\"#98#99\"{VSCodeServer.NotebookRunCellArguments,String})() at /home/kali/.vscode/extensions/julialang.language-julia-1.4.3/scripts/packages/VSCodeServer/src/serve_notebook.jl:18\n",
      " [6] withpath(::VSCodeServer.var\"#98#99\"{VSCodeServer.NotebookRunCellArguments,String}, ::String) at /home/kali/.vscode/extensions/julialang.language-julia-1.4.3/scripts/packages/VSCodeServer/src/repl.jl:185\n",
      " [7] notebook_runcell_request(::VSCodeServer.JSONRPC.JSONRPCEndpoint{Base.PipeEndpoint,Base.PipeEndpoint}, ::VSCodeServer.NotebookRunCellArguments) at /home/kali/.vscode/extensions/julialang.language-julia-1.4.3/scripts/packages/VSCodeServer/src/serve_notebook.jl:14\n",
      " [8] dispatch_msg(::VSCodeServer.JSONRPC.JSONRPCEndpoint{Base.PipeEndpoint,Base.PipeEndpoint}, ::VSCodeServer.JSONRPC.MsgDispatcher, ::Dict{String,Any}) at /home/kali/.vscode/extensions/julialang.language-julia-1.4.3/scripts/packages/JSONRPC/src/typed.jl:67\n",
      " [9] serve_notebook(::String; crashreporting_pipename::String) at /home/kali/.vscode/extensions/julialang.language-julia-1.4.3/scripts/packages/VSCodeServer/src/serve_notebook.jl:94\n",
      " [10] top-level scope at /home/kali/.vscode/extensions/julialang.language-julia-1.4.3/scripts/notebook/notebook.jl:10\n",
      " [11] include(::Function, ::Module, ::String) at ./Base.jl:380\n",
      " [12] include(::Module, ::String) at ./Base.jl:368\n",
      " [13] exec_options(::Base.JLOptions) at ./client.jl:296\n",
      " [14] _start() at ./client.jl:506"
     ]
    }
   ],
   "source": [
    "for i in Task(fubseries)\n",
    "    if i > 100\n",
    "        break\n",
    "    end\n",
    "    println(i)\n",
    "end"
   ]
  },
  {
   "cell_type": "markdown",
   "metadata": {},
   "source": [
    "## 17. Exception Handling"
   ]
  },
  {
   "cell_type": "code",
   "execution_count": 266,
   "metadata": {},
   "outputs": [
    {
     "ename": "MethodError",
     "evalue": "MethodError: no method matching +(::String, ::Int64)\nClosest candidates are:\n  +(::Any, ::Any, !Matched::Any, !Matched::Any...) at operators.jl:538\n  +(!Matched::BigFloat, ::Union{Int16, Int32, Int64, Int8}) at mpfr.jl:378\n  +(!Matched::Base.CoreLogging.LogLevel, ::Integer) at logging.jl:116\n  ...",
     "output_type": "error",
     "traceback": [
      "\n",
      "Stacktrace:\n",
      " [1] top-level scope at /home/kali/WorkPlace/Julia/StartJulia.ipynb:1\n",
      " [2] include_string(::Function, ::Module, ::String, ::String) at ./loading.jl:1091\n",
      " [3] #invokelatest#1 at ./essentials.jl:710 [inlined]\n",
      " [4] invokelatest at ./essentials.jl:709 [inlined]\n",
      " [5] (::VSCodeServer.var\"#98#99\"{VSCodeServer.NotebookRunCellArguments,String})() at /home/kali/.vscode/extensions/julialang.language-julia-1.4.3/scripts/packages/VSCodeServer/src/serve_notebook.jl:18\n",
      " [6] withpath(::VSCodeServer.var\"#98#99\"{VSCodeServer.NotebookRunCellArguments,String}, ::String) at /home/kali/.vscode/extensions/julialang.language-julia-1.4.3/scripts/packages/VSCodeServer/src/repl.jl:185\n",
      " [7] notebook_runcell_request(::VSCodeServer.JSONRPC.JSONRPCEndpoint{Base.PipeEndpoint,Base.PipeEndpoint}, ::VSCodeServer.NotebookRunCellArguments) at /home/kali/.vscode/extensions/julialang.language-julia-1.4.3/scripts/packages/VSCodeServer/src/serve_notebook.jl:14\n",
      " [8] dispatch_msg(::VSCodeServer.JSONRPC.JSONRPCEndpoint{Base.PipeEndpoint,Base.PipeEndpoint}, ::VSCodeServer.JSONRPC.MsgDispatcher, ::Dict{String,Any}) at /home/kali/.vscode/extensions/julialang.language-julia-1.4.3/scripts/packages/JSONRPC/src/typed.jl:67\n",
      " [9] serve_notebook(::String; crashreporting_pipename::String) at /home/kali/.vscode/extensions/julialang.language-julia-1.4.3/scripts/packages/VSCodeServer/src/serve_notebook.jl:94\n",
      " [10] top-level scope at /home/kali/.vscode/extensions/julialang.language-julia-1.4.3/scripts/notebook/notebook.jl:10\n",
      " [11] include(::Function, ::Module, ::String) at ./Base.jl:380\n",
      " [12] include(::Module, ::String) at ./Base.jl:368\n",
      " [13] exec_options(::Base.JLOptions) at ./client.jl:296\n",
      " [14] _start() at ./client.jl:506"
     ]
    }
   ],
   "source": [
    "\"getskillsfast\"+7879"
   ]
  },
  {
   "cell_type": "code",
   "execution_count": 267,
   "metadata": {},
   "outputs": [
    {
     "ename": "DomainError",
     "evalue": "DomainError with -5.0:\nsqrt will only return a complex result if called with a complex argument. Try sqrt(Complex(x)).",
     "output_type": "error",
     "traceback": [
      "\n",
      "Stacktrace:\n",
      " [1] throw_complex_domainerror(::Symbol, ::Float64) at ./math.jl:33\n",
      " [2] sqrt at ./math.jl:573 [inlined]\n",
      " [3] sqrt(::Int64) at ./math.jl:599\n",
      " [4] top-level scope at /home/kali/WorkPlace/Julia/StartJulia.ipynb:1\n",
      " [5] include_string(::Function, ::Module, ::String, ::String) at ./loading.jl:1091\n",
      " [6] #invokelatest#1 at ./essentials.jl:710 [inlined]\n",
      " [7] invokelatest at ./essentials.jl:709 [inlined]\n",
      " [8] (::VSCodeServer.var\"#98#99\"{VSCodeServer.NotebookRunCellArguments,String})() at /home/kali/.vscode/extensions/julialang.language-julia-1.4.3/scripts/packages/VSCodeServer/src/serve_notebook.jl:18\n",
      " [9] withpath(::VSCodeServer.var\"#98#99\"{VSCodeServer.NotebookRunCellArguments,String}, ::String) at /home/kali/.vscode/extensions/julialang.language-julia-1.4.3/scripts/packages/VSCodeServer/src/repl.jl:185\n",
      " [10] notebook_runcell_request(::VSCodeServer.JSONRPC.JSONRPCEndpoint{Base.PipeEndpoint,Base.PipeEndpoint}, ::VSCodeServer.NotebookRunCellArguments) at /home/kali/.vscode/extensions/julialang.language-julia-1.4.3/scripts/packages/VSCodeServer/src/serve_notebook.jl:14\n",
      " [11] dispatch_msg(::VSCodeServer.JSONRPC.JSONRPCEndpoint{Base.PipeEndpoint,Base.PipeEndpoint}, ::VSCodeServer.JSONRPC.MsgDispatcher, ::Dict{String,Any}) at /home/kali/.vscode/extensions/julialang.language-julia-1.4.3/scripts/packages/JSONRPC/src/typed.jl:67\n",
      " [12] serve_notebook(::String; crashreporting_pipename::String) at /home/kali/.vscode/extensions/julialang.language-julia-1.4.3/scripts/packages/VSCodeServer/src/serve_notebook.jl:94\n",
      " [13] top-level scope at /home/kali/.vscode/extensions/julialang.language-julia-1.4.3/scripts/notebook/notebook.jl:10\n",
      " [14] include(::Function, ::Module, ::String) at ./Base.jl:380\n",
      " [15] include(::Module, ::String) at ./Base.jl:368\n",
      " [16] exec_options(::Base.JLOptions) at ./client.jl:296\n",
      " [17] _start() at ./client.jl:506"
     ]
    }
   ],
   "source": [
    "sqrt(-5)"
   ]
  },
  {
   "cell_type": "code",
   "execution_count": 268,
   "metadata": {},
   "outputs": [
    {
     "name": "stdout",
     "output_type": "stream",
     "text": [
      "An exection has occurred\n"
     ]
    }
   ],
   "source": [
    "try\n",
    "    sqrt(-5)\n",
    "catch\n",
    "    println(\"An exection has occurred\")\n",
    "end"
   ]
  },
  {
   "cell_type": "markdown",
   "metadata": {},
   "source": [
    "## 18. Type of Execptions"
   ]
  },
  {
   "cell_type": "code",
   "execution_count": 269,
   "metadata": {},
   "outputs": [
    {
     "name": "stdout",
     "output_type": "stream",
     "text": [
      "An exection has occurredDomainError(-5.0, \"sqrt will only return a complex result if called with a complex argument. Try sqrt(Complex(x)).\")\n"
     ]
    }
   ],
   "source": [
    "try\n",
    "    sqrt(-5)\n",
    "catch x\n",
    "    println(\"An exection has occurred\",x)\n",
    "end"
   ]
  },
  {
   "cell_type": "code",
   "execution_count": 270,
   "metadata": {},
   "outputs": [
    {
     "ename": "ErrorException",
     "evalue": "syntax: incomplete: premature end of input",
     "output_type": "error",
     "traceback": [
      "\n",
      "Stacktrace:\n",
      " [1] top-level scope at /home/kali/WorkPlace/Julia/StartJulia.ipynb:1\n",
      " [2] include_string(::Function, ::Module, ::String, ::String) at ./loading.jl:1091\n",
      " [3] #invokelatest#1 at ./essentials.jl:710 [inlined]\n",
      " [4] invokelatest at ./essentials.jl:709 [inlined]\n",
      " [5] (::VSCodeServer.var\"#98#99\"{VSCodeServer.NotebookRunCellArguments,String})() at /home/kali/.vscode/extensions/julialang.language-julia-1.4.3/scripts/packages/VSCodeServer/src/serve_notebook.jl:18\n",
      " [6] withpath(::VSCodeServer.var\"#98#99\"{VSCodeServer.NotebookRunCellArguments,String}, ::String) at /home/kali/.vscode/extensions/julialang.language-julia-1.4.3/scripts/packages/VSCodeServer/src/repl.jl:185\n",
      " [7] notebook_runcell_request(::VSCodeServer.JSONRPC.JSONRPCEndpoint{Base.PipeEndpoint,Base.PipeEndpoint}, ::VSCodeServer.NotebookRunCellArguments) at /home/kali/.vscode/extensions/julialang.language-julia-1.4.3/scripts/packages/VSCodeServer/src/serve_notebook.jl:14\n",
      " [8] dispatch_msg(::VSCodeServer.JSONRPC.JSONRPCEndpoint{Base.PipeEndpoint,Base.PipeEndpoint}, ::VSCodeServer.JSONRPC.MsgDispatcher, ::Dict{String,Any}) at /home/kali/.vscode/extensions/julialang.language-julia-1.4.3/scripts/packages/JSONRPC/src/typed.jl:67\n",
      " [9] serve_notebook(::String; crashreporting_pipename::String) at /home/kali/.vscode/extensions/julialang.language-julia-1.4.3/scripts/packages/VSCodeServer/src/serve_notebook.jl:94\n",
      " [10] top-level scope at /home/kali/.vscode/extensions/julialang.language-julia-1.4.3/scripts/notebook/notebook.jl:10\n",
      " [11] include(::Function, ::Module, ::String) at ./Base.jl:380\n",
      " [12] include(::Module, ::String) at ./Base.jl:368\n",
      " [13] exec_options(::Base.JLOptions) at ./client.jl:296\n",
      " [14] _start() at ./client.jl:506"
     ]
    }
   ],
   "source": [
    "try\n",
    "    arr=[4,5]\n",
    "    sqrt(arr(3))\n",
    "catch x\n",
    "    if isa(x,DomainError)\n",
    "        elseif isa(x,DomainError)\n",
    "end"
   ]
  }
 ],
 "metadata": {
  "kernelspec": {
   "display_name": "Julia 1.5.3",
   "language": "julia",
   "name": "julia-1.5"
  },
  "language_info": {
   "file_extension": ".jl",
   "mimetype": "application/julia",
   "name": "julia",
   "version": "1.5.3"
  },
  "orig_nbformat": 4
 },
 "nbformat": 4,
 "nbformat_minor": 2
}
